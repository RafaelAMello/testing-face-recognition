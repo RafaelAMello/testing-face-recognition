{
 "cells": [
  {
   "cell_type": "code",
   "execution_count": 1,
   "metadata": {},
   "outputs": [],
   "source": [
    "import os\n",
    "\n",
    "from pyspark.sql import SparkSession\n",
    "from pyspark.streaming import StreamingContext\n",
    "\n",
    "os.environ['PYSPARK_SUBMIT_ARGS'] = '--packages org.apache.spark:spark-streaming-kafka-0-8_2.11:2.1.0,org.apache.spark:spark-sql-kafka-0-10_2.12:3.0.0 pyspark-shell'\n"
   ]
  },
  {
   "cell_type": "code",
   "execution_count": 2,
   "metadata": {},
   "outputs": [],
   "source": [
    "kafka_broker_hostname = 'kafka-49b7861-rafaelathaydemello-3b01.aivencloud.com'\n",
    "kafka_broker_port = '25697'\n",
    "kafka_broker = kafka_broker_hostname + ':' +kafka_broker_port\n",
    "kafka_topic= 'picture-metadata'\n",
    "\n",
    "spark = SparkSession.builder.appName('PicturesAnalysis').getOrCreate()\n"
   ]
  },
  {
   "cell_type": "code",
   "execution_count": 3,
   "metadata": {},
   "outputs": [],
   "source": [
    "# Batch Query\n",
    "df = spark.read.format('kafka') \\\n",
    "    .option('kafka.bootstrap.servers', kafka_broker)\\\n",
    "    .option(\"kafka.security.protocol\",\"SSL\")\\\n",
    "    .option(\"kafka.ssl.endpoint.identification.algorithm\", \"\")\\\n",
    "    .option(\"kafka.ssl.truststore.location\", \"/home/jovyan/local/client.truststore.jks\")\\\n",
    "    .option(\"kafka.ssl.truststore.password\", \"password\")\\\n",
    "    .option(\"kafka.ssl.keystore.type\", \"PKCS12\")\\\n",
    "    .option('kafka.ssl.keystore.location', \"/home/jovyan/local/client.keystore.p12\")\\\n",
    "    .option('kafka.ssl.keystore.password', \"password\")\\\n",
    "    .option('subscribe', kafka_topic)\\\n",
    "    .option('startingOffsets', 'earliest')\\\n",
    "    .option(\"includeHeaders\", \"true\")\\\n",
    "    .load()\n"
   ]
  },
  {
   "cell_type": "code",
   "execution_count": 4,
   "metadata": {},
   "outputs": [
    {
     "data": {
      "text/plain": [
       "[]"
      ]
     },
     "execution_count": 4,
     "metadata": {},
     "output_type": "execute_result"
    }
   ],
   "source": [
    "spark.catalog.listTables()"
   ]
  },
  {
   "cell_type": "code",
   "execution_count": 5,
   "metadata": {},
   "outputs": [],
   "source": [
    "a = df.createOrReplaceTempView('test')"
   ]
  },
  {
   "cell_type": "code",
   "execution_count": 6,
   "metadata": {},
   "outputs": [],
   "source": [
    "df2 = spark.sql(\"SELECT CAST(value as string) FROM test\")"
   ]
  },
  {
   "cell_type": "code",
   "execution_count": 7,
   "metadata": {},
   "outputs": [
    {
     "name": "stdout",
     "output_type": "stream",
     "text": [
      "root\n",
      " |-- value: string (nullable = true)\n",
      "\n"
     ]
    }
   ],
   "source": [
    "df2.printSchema()\n"
   ]
  },
  {
   "cell_type": "code",
   "execution_count": 8,
   "metadata": {},
   "outputs": [
    {
     "name": "stdout",
     "output_type": "stream",
     "text": [
      "+--------------------+\n",
      "|               value|\n",
      "+--------------------+\n",
      "|{\"success\": true,...|\n",
      "|{\"success\": true,...|\n",
      "|{\"success\": true,...|\n",
      "|{\"success\": true,...|\n",
      "|{\"success\": true,...|\n",
      "|{\"success\": true,...|\n",
      "|{\"success\": true,...|\n",
      "|{\"success\": true,...|\n",
      "|{\"success\": true,...|\n",
      "|{\"success\": true,...|\n",
      "|{\"success\": true,...|\n",
      "|{\"success\": true,...|\n",
      "|{\"success\": true,...|\n",
      "|{\"success\": true,...|\n",
      "|{\"success\": true,...|\n",
      "|{\"success\": true,...|\n",
      "|{\"success\": true,...|\n",
      "|{\"success\": true,...|\n",
      "|{\"success\": true,...|\n",
      "|{\"success\": true,...|\n",
      "+--------------------+\n",
      "only showing top 20 rows\n",
      "\n"
     ]
    }
   ],
   "source": [
    "df2.show()"
   ]
  }
 ],
 "metadata": {
  "kernelspec": {
   "display_name": "Python 3",
   "language": "python",
   "name": "python3"
  },
  "language_info": {
   "codemirror_mode": {
    "name": "ipython",
    "version": 3
   },
   "file_extension": ".py",
   "mimetype": "text/x-python",
   "name": "python",
   "nbconvert_exporter": "python",
   "pygments_lexer": "ipython3",
   "version": "3.8.5"
  }
 },
 "nbformat": 4,
 "nbformat_minor": 4
}
